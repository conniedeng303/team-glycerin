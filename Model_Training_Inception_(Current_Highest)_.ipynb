{
  "metadata": {
    "kernelspec": {
      "display_name": "Python 3",
      "name": "python3"
    },
    "language_info": {
      "name": "python",
      "version": "3.10.12",
      "mimetype": "text/x-python",
      "codemirror_mode": {
        "name": "ipython",
        "version": 3
      },
      "pygments_lexer": "ipython3",
      "nbconvert_exporter": "python",
      "file_extension": ".py"
    },
    "kaggle": {
      "accelerator": "none",
      "dataSources": [
        {
          "sourceId": 90489,
          "databundleVersionId": 10898385,
          "sourceType": "competition"
        },
        {
          "sourceId": 10836616,
          "sourceType": "datasetVersion",
          "datasetId": 6729448
        }
      ],
      "dockerImageVersionId": 30839,
      "isInternetEnabled": true,
      "language": "python",
      "sourceType": "notebook",
      "isGpuEnabled": false
    },
    "colab": {
      "provenance": [],
      "gpuType": "T4",
      "include_colab_link": true
    },
    "accelerator": "GPU"
  },
  "nbformat_minor": 0,
  "nbformat": 4,
  "cells": [
    {
      "cell_type": "markdown",
      "metadata": {
        "id": "view-in-github",
        "colab_type": "text"
      },
      "source": [
        "<a href=\"https://colab.research.google.com/github/conniedeng303/team-glycerin/blob/main/Model_Training_Inception_(Current_Highest)_.ipynb\" target=\"_parent\"><img src=\"https://colab.research.google.com/assets/colab-badge.svg\" alt=\"Open In Colab\"/></a>"
      ]
    },
    {
      "cell_type": "markdown",
      "source": [
        "# A Simple Starter Code for the AJL Competition\n",
        "\n",
        "@Cindy Deng\n",
        "\n",
        "---\n",
        "\n",
        "\n",
        "Hi! This starter code is designed to help you get familiar with basic Kaggle operations and guide you through the basic workflow of a machine learning project.\n",
        "\n",
        "The code outlines essential steps including data loading, preprocessing, model building, training, and generating predictions. Each section serves as a foundation, but there are many ways to enhance each step to improve your final model's accuracy. Feel free to experiment with different data augmentation techniques, model architectures, and tuning methods to optimize your final results! Some amazing tutorials are available through your AI Studio course in Canvas / in the 'Resource' section of this Kaggle competition.\n",
        "\n",
        "Good luck and have fun!\n",
        "\n",
        "---"
      ],
      "metadata": {
        "id": "xZzYlfMaulU6"
      }
    },
    {
      "cell_type": "markdown",
      "source": [
        "## 1. Import Necessary Libraries"
      ],
      "metadata": {
        "id": "axmyTU_XulU7"
      }
    },
    {
      "cell_type": "code",
      "source": [
        "# 1. Import Necessary Libraries\n",
        "import os\n",
        "import pandas as pd\n",
        "import tensorflow as tf\n",
        "from tensorflow.keras.applications import InceptionV3\n",
        "from tensorflow.keras.preprocessing.image import ImageDataGenerator\n",
        "from tensorflow.keras.layers import Dense, GlobalAveragePooling2D, Dropout\n",
        "from tensorflow.keras.models import Model\n",
        "from tensorflow.keras.optimizers import Adam\n",
        "from sklearn.model_selection import train_test_split\n",
        "from sklearn.preprocessing import LabelEncoder\n",
        "import matplotlib.pyplot as plt\n",
        "import numpy as np\n",
        "\n",
        "# Explanation:\n",
        "# - pandas and numpy: for data manipulation\n",
        "# - sklearn: for splitting data and encoding labels\n",
        "# - tensorflow.keras: for building and training the neural network"
      ],
      "metadata": {
        "trusted": true,
        "execution": {
          "iopub.status.busy": "2025-03-19T01:49:44.056452Z",
          "iopub.execute_input": "2025-03-19T01:49:44.056805Z",
          "iopub.status.idle": "2025-03-19T01:49:44.062255Z",
          "shell.execute_reply.started": "2025-03-19T01:49:44.056777Z",
          "shell.execute_reply": "2025-03-19T01:49:44.061248Z"
        },
        "id": "mFDFTQpculU7"
      },
      "outputs": [],
      "execution_count": null
    },
    {
      "cell_type": "markdown",
      "source": [
        "## 2. Load Data\n",
        "\n",
        "Make sure to verify the file paths if you're running on a different platform."
      ],
      "metadata": {
        "id": "4QJIX6q-ulU8"
      }
    },
    {
      "cell_type": "code",
      "source": [
        "from google.colab import drive\n",
        "drive.mount('/content/drive')\n",
        "train_path = \"/content/drive/MyDrive/VIR_AJL_Team_Glycerin/Dermatology_Dataset/bttai-ajl-2025_unzipped/train.csv\"\n",
        "test_path = \"/content/drive/MyDrive/VIR_AJL_Team_Glycerin/Dermatology_Dataset/bttai-ajl-2025_unzipped/test.csv\"\n",
        "\n",
        "train_df = pd.read_csv(train_path)\n",
        "test_df = pd.read_csv(test_path)\n",
        "\n",
        "train_df['md5hash'] = train_df['md5hash'].astype(str) + '.jpg'\n",
        "test_df['md5hash'] = test_df['md5hash'].astype(str) + '.jpg'\n",
        "train_df['file_path'] = train_df['label'] + '/' + train_df['md5hash']"
      ],
      "metadata": {
        "trusted": true,
        "execution": {
          "iopub.status.busy": "2025-03-19T01:49:44.063634Z",
          "iopub.execute_input": "2025-03-19T01:49:44.063954Z",
          "iopub.status.idle": "2025-03-19T01:49:44.101052Z",
          "shell.execute_reply.started": "2025-03-19T01:49:44.063926Z",
          "shell.execute_reply": "2025-03-19T01:49:44.100044Z"
        },
        "id": "6JmXDBQ9ulU8",
        "colab": {
          "base_uri": "https://localhost:8080/",
          "height": 408
        },
        "outputId": "718473ca-b999-4c14-8410-0a6a8fef7036"
      },
      "outputs": [
        {
          "output_type": "stream",
          "name": "stdout",
          "text": [
            "Mounted at /content/drive\n"
          ]
        },
        {
          "output_type": "error",
          "ename": "FileNotFoundError",
          "evalue": "[Errno 2] No such file or directory: '/content/drive/MyDrive/VIR_AJL_Team_Glycerin/Dermatology_Dataset/bttai-ajl-2025_unzipped/train.csv'",
          "traceback": [
            "\u001b[0;31m---------------------------------------------------------------------------\u001b[0m",
            "\u001b[0;31mFileNotFoundError\u001b[0m                         Traceback (most recent call last)",
            "\u001b[0;32m<ipython-input-2-15cfafb9d136>\u001b[0m in \u001b[0;36m<cell line: 0>\u001b[0;34m()\u001b[0m\n\u001b[1;32m      4\u001b[0m \u001b[0mtest_path\u001b[0m \u001b[0;34m=\u001b[0m \u001b[0;34m\"/content/drive/MyDrive/VIR_AJL_Team_Glycerin/Dermatology_Dataset/bttai-ajl-2025_unzipped/test.csv\"\u001b[0m\u001b[0;34m\u001b[0m\u001b[0;34m\u001b[0m\u001b[0m\n\u001b[1;32m      5\u001b[0m \u001b[0;34m\u001b[0m\u001b[0m\n\u001b[0;32m----> 6\u001b[0;31m \u001b[0mtrain_df\u001b[0m \u001b[0;34m=\u001b[0m \u001b[0mpd\u001b[0m\u001b[0;34m.\u001b[0m\u001b[0mread_csv\u001b[0m\u001b[0;34m(\u001b[0m\u001b[0mtrain_path\u001b[0m\u001b[0;34m)\u001b[0m\u001b[0;34m\u001b[0m\u001b[0;34m\u001b[0m\u001b[0m\n\u001b[0m\u001b[1;32m      7\u001b[0m \u001b[0mtest_df\u001b[0m \u001b[0;34m=\u001b[0m \u001b[0mpd\u001b[0m\u001b[0;34m.\u001b[0m\u001b[0mread_csv\u001b[0m\u001b[0;34m(\u001b[0m\u001b[0mtest_path\u001b[0m\u001b[0;34m)\u001b[0m\u001b[0;34m\u001b[0m\u001b[0;34m\u001b[0m\u001b[0m\n\u001b[1;32m      8\u001b[0m \u001b[0;34m\u001b[0m\u001b[0m\n",
            "\u001b[0;32m/usr/local/lib/python3.11/dist-packages/pandas/io/parsers/readers.py\u001b[0m in \u001b[0;36mread_csv\u001b[0;34m(filepath_or_buffer, sep, delimiter, header, names, index_col, usecols, dtype, engine, converters, true_values, false_values, skipinitialspace, skiprows, skipfooter, nrows, na_values, keep_default_na, na_filter, verbose, skip_blank_lines, parse_dates, infer_datetime_format, keep_date_col, date_parser, date_format, dayfirst, cache_dates, iterator, chunksize, compression, thousands, decimal, lineterminator, quotechar, quoting, doublequote, escapechar, comment, encoding, encoding_errors, dialect, on_bad_lines, delim_whitespace, low_memory, memory_map, float_precision, storage_options, dtype_backend)\u001b[0m\n\u001b[1;32m   1024\u001b[0m     \u001b[0mkwds\u001b[0m\u001b[0;34m.\u001b[0m\u001b[0mupdate\u001b[0m\u001b[0;34m(\u001b[0m\u001b[0mkwds_defaults\u001b[0m\u001b[0;34m)\u001b[0m\u001b[0;34m\u001b[0m\u001b[0;34m\u001b[0m\u001b[0m\n\u001b[1;32m   1025\u001b[0m \u001b[0;34m\u001b[0m\u001b[0m\n\u001b[0;32m-> 1026\u001b[0;31m     \u001b[0;32mreturn\u001b[0m \u001b[0m_read\u001b[0m\u001b[0;34m(\u001b[0m\u001b[0mfilepath_or_buffer\u001b[0m\u001b[0;34m,\u001b[0m \u001b[0mkwds\u001b[0m\u001b[0;34m)\u001b[0m\u001b[0;34m\u001b[0m\u001b[0;34m\u001b[0m\u001b[0m\n\u001b[0m\u001b[1;32m   1027\u001b[0m \u001b[0;34m\u001b[0m\u001b[0m\n\u001b[1;32m   1028\u001b[0m \u001b[0;34m\u001b[0m\u001b[0m\n",
            "\u001b[0;32m/usr/local/lib/python3.11/dist-packages/pandas/io/parsers/readers.py\u001b[0m in \u001b[0;36m_read\u001b[0;34m(filepath_or_buffer, kwds)\u001b[0m\n\u001b[1;32m    618\u001b[0m \u001b[0;34m\u001b[0m\u001b[0m\n\u001b[1;32m    619\u001b[0m     \u001b[0;31m# Create the parser.\u001b[0m\u001b[0;34m\u001b[0m\u001b[0;34m\u001b[0m\u001b[0m\n\u001b[0;32m--> 620\u001b[0;31m     \u001b[0mparser\u001b[0m \u001b[0;34m=\u001b[0m \u001b[0mTextFileReader\u001b[0m\u001b[0;34m(\u001b[0m\u001b[0mfilepath_or_buffer\u001b[0m\u001b[0;34m,\u001b[0m \u001b[0;34m**\u001b[0m\u001b[0mkwds\u001b[0m\u001b[0;34m)\u001b[0m\u001b[0;34m\u001b[0m\u001b[0;34m\u001b[0m\u001b[0m\n\u001b[0m\u001b[1;32m    621\u001b[0m \u001b[0;34m\u001b[0m\u001b[0m\n\u001b[1;32m    622\u001b[0m     \u001b[0;32mif\u001b[0m \u001b[0mchunksize\u001b[0m \u001b[0;32mor\u001b[0m \u001b[0miterator\u001b[0m\u001b[0;34m:\u001b[0m\u001b[0;34m\u001b[0m\u001b[0;34m\u001b[0m\u001b[0m\n",
            "\u001b[0;32m/usr/local/lib/python3.11/dist-packages/pandas/io/parsers/readers.py\u001b[0m in \u001b[0;36m__init__\u001b[0;34m(self, f, engine, **kwds)\u001b[0m\n\u001b[1;32m   1618\u001b[0m \u001b[0;34m\u001b[0m\u001b[0m\n\u001b[1;32m   1619\u001b[0m         \u001b[0mself\u001b[0m\u001b[0;34m.\u001b[0m\u001b[0mhandles\u001b[0m\u001b[0;34m:\u001b[0m \u001b[0mIOHandles\u001b[0m \u001b[0;34m|\u001b[0m \u001b[0;32mNone\u001b[0m \u001b[0;34m=\u001b[0m \u001b[0;32mNone\u001b[0m\u001b[0;34m\u001b[0m\u001b[0;34m\u001b[0m\u001b[0m\n\u001b[0;32m-> 1620\u001b[0;31m         \u001b[0mself\u001b[0m\u001b[0;34m.\u001b[0m\u001b[0m_engine\u001b[0m \u001b[0;34m=\u001b[0m \u001b[0mself\u001b[0m\u001b[0;34m.\u001b[0m\u001b[0m_make_engine\u001b[0m\u001b[0;34m(\u001b[0m\u001b[0mf\u001b[0m\u001b[0;34m,\u001b[0m \u001b[0mself\u001b[0m\u001b[0;34m.\u001b[0m\u001b[0mengine\u001b[0m\u001b[0;34m)\u001b[0m\u001b[0;34m\u001b[0m\u001b[0;34m\u001b[0m\u001b[0m\n\u001b[0m\u001b[1;32m   1621\u001b[0m \u001b[0;34m\u001b[0m\u001b[0m\n\u001b[1;32m   1622\u001b[0m     \u001b[0;32mdef\u001b[0m \u001b[0mclose\u001b[0m\u001b[0;34m(\u001b[0m\u001b[0mself\u001b[0m\u001b[0;34m)\u001b[0m \u001b[0;34m->\u001b[0m \u001b[0;32mNone\u001b[0m\u001b[0;34m:\u001b[0m\u001b[0;34m\u001b[0m\u001b[0;34m\u001b[0m\u001b[0m\n",
            "\u001b[0;32m/usr/local/lib/python3.11/dist-packages/pandas/io/parsers/readers.py\u001b[0m in \u001b[0;36m_make_engine\u001b[0;34m(self, f, engine)\u001b[0m\n\u001b[1;32m   1878\u001b[0m                 \u001b[0;32mif\u001b[0m \u001b[0;34m\"b\"\u001b[0m \u001b[0;32mnot\u001b[0m \u001b[0;32min\u001b[0m \u001b[0mmode\u001b[0m\u001b[0;34m:\u001b[0m\u001b[0;34m\u001b[0m\u001b[0;34m\u001b[0m\u001b[0m\n\u001b[1;32m   1879\u001b[0m                     \u001b[0mmode\u001b[0m \u001b[0;34m+=\u001b[0m \u001b[0;34m\"b\"\u001b[0m\u001b[0;34m\u001b[0m\u001b[0;34m\u001b[0m\u001b[0m\n\u001b[0;32m-> 1880\u001b[0;31m             self.handles = get_handle(\n\u001b[0m\u001b[1;32m   1881\u001b[0m                 \u001b[0mf\u001b[0m\u001b[0;34m,\u001b[0m\u001b[0;34m\u001b[0m\u001b[0;34m\u001b[0m\u001b[0m\n\u001b[1;32m   1882\u001b[0m                 \u001b[0mmode\u001b[0m\u001b[0;34m,\u001b[0m\u001b[0;34m\u001b[0m\u001b[0;34m\u001b[0m\u001b[0m\n",
            "\u001b[0;32m/usr/local/lib/python3.11/dist-packages/pandas/io/common.py\u001b[0m in \u001b[0;36mget_handle\u001b[0;34m(path_or_buf, mode, encoding, compression, memory_map, is_text, errors, storage_options)\u001b[0m\n\u001b[1;32m    871\u001b[0m         \u001b[0;32mif\u001b[0m \u001b[0mioargs\u001b[0m\u001b[0;34m.\u001b[0m\u001b[0mencoding\u001b[0m \u001b[0;32mand\u001b[0m \u001b[0;34m\"b\"\u001b[0m \u001b[0;32mnot\u001b[0m \u001b[0;32min\u001b[0m \u001b[0mioargs\u001b[0m\u001b[0;34m.\u001b[0m\u001b[0mmode\u001b[0m\u001b[0;34m:\u001b[0m\u001b[0;34m\u001b[0m\u001b[0;34m\u001b[0m\u001b[0m\n\u001b[1;32m    872\u001b[0m             \u001b[0;31m# Encoding\u001b[0m\u001b[0;34m\u001b[0m\u001b[0;34m\u001b[0m\u001b[0m\n\u001b[0;32m--> 873\u001b[0;31m             handle = open(\n\u001b[0m\u001b[1;32m    874\u001b[0m                 \u001b[0mhandle\u001b[0m\u001b[0;34m,\u001b[0m\u001b[0;34m\u001b[0m\u001b[0;34m\u001b[0m\u001b[0m\n\u001b[1;32m    875\u001b[0m                 \u001b[0mioargs\u001b[0m\u001b[0;34m.\u001b[0m\u001b[0mmode\u001b[0m\u001b[0;34m,\u001b[0m\u001b[0;34m\u001b[0m\u001b[0;34m\u001b[0m\u001b[0m\n",
            "\u001b[0;31mFileNotFoundError\u001b[0m: [Errno 2] No such file or directory: '/content/drive/MyDrive/VIR_AJL_Team_Glycerin/Dermatology_Dataset/bttai-ajl-2025_unzipped/train.csv'"
          ]
        }
      ],
      "execution_count": null
    },
    {
      "cell_type": "code",
      "source": [
        "# Check the first few rows to understand the structure\n",
        "print(train_df.head())"
      ],
      "metadata": {
        "trusted": true,
        "execution": {
          "iopub.status.busy": "2025-03-19T01:49:44.152157Z",
          "iopub.execute_input": "2025-03-19T01:49:44.152583Z",
          "iopub.status.idle": "2025-03-19T01:49:44.161788Z",
          "shell.execute_reply.started": "2025-03-19T01:49:44.152549Z",
          "shell.execute_reply": "2025-03-19T01:49:44.160622Z"
        },
        "id": "_LcWU8QRulU8",
        "colab": {
          "base_uri": "https://localhost:8080/"
        },
        "outputId": "a32a03aa-f10a-491a-f190-1c7e5581d661"
      },
      "outputs": [
        {
          "output_type": "stream",
          "name": "stdout",
          "text": [
            "                                md5hash  fitzpatrick_scale  \\\n",
            "0  fd06d13de341cc75ad679916c5d7e6a6.jpg                  4   \n",
            "1  a4bb4e5206c4e89a303f470576fc5253.jpg                  1   \n",
            "2  c94ce27e389f96bda998e7c3fa5c4a2e.jpg                  5   \n",
            "3  ebcf2b50dd943c700d4e2b586fcd4425.jpg                  3   \n",
            "4  c77d6c895f05fea73a8f3704307036c0.jpg                  1   \n",
            "\n",
            "   fitzpatrick_centaur                             label nine_partition_label  \\\n",
            "0                    4                 prurigo-nodularis     benign-epidermal   \n",
            "1                    1  basal-cell-carcinoma-morpheiform  malignant-epidermal   \n",
            "2                    5                            keloid         inflammatory   \n",
            "3                    3              basal-cell-carcinoma  malignant-epidermal   \n",
            "4                    1                 prurigo-nodularis     benign-epidermal   \n",
            "\n",
            "  three_partition_label            qc  ddi_scale  \\\n",
            "0                benign           NaN         34   \n",
            "1             malignant           NaN         12   \n",
            "2        non-neoplastic  1 Diagnostic         56   \n",
            "3             malignant           NaN         34   \n",
            "4                benign           NaN         12   \n",
            "\n",
            "                                           file_path  \n",
            "0  prurigo-nodularis/fd06d13de341cc75ad679916c5d7...  \n",
            "1  basal-cell-carcinoma-morpheiform/a4bb4e5206c4e...  \n",
            "2        keloid/c94ce27e389f96bda998e7c3fa5c4a2e.jpg  \n",
            "3  basal-cell-carcinoma/ebcf2b50dd943c700d4e2b586...  \n",
            "4  prurigo-nodularis/c77d6c895f05fea73a8f37043070...  \n"
          ]
        }
      ],
      "execution_count": null
    },
    {
      "cell_type": "markdown",
      "source": [
        "## 3. Data Preprocessing\n",
        "\n",
        "\n",
        "This section demonstrates basic preprocessing techniques. To enhance data quality and model performance, consider incorporating more advanced preprocessing methods.\n",
        "\n",
        "For further guidance, feel free to take a look at the [Image Preprocessing tutorial](https://colab.research.google.com/drive/1-ItNcRMbZBE6BCwPT-wD8m3YmHqwHxme?usp=sharing)  available in the 'Resources' section of this Kaggle competition.\n"
      ],
      "metadata": {
        "id": "VsvewLuBulU8"
      }
    },
    {
      "cell_type": "code",
      "source": [
        "# Encode the labels\n",
        "label_encoder = LabelEncoder()\n",
        "train_df['encoded_label'] = label_encoder.fit_transform(train_df['label'])\n",
        "\n",
        "# Split the data into training and validation sets\n",
        "train_data, val_data = train_test_split(train_df, test_size=0.2, random_state=42, stratify=train_df['label'])\n"
      ],
      "metadata": {
        "trusted": true,
        "execution": {
          "iopub.status.busy": "2025-03-19T01:49:44.162984Z",
          "iopub.execute_input": "2025-03-19T01:49:44.163306Z",
          "iopub.status.idle": "2025-03-19T01:49:44.181966Z",
          "shell.execute_reply.started": "2025-03-19T01:49:44.16326Z",
          "shell.execute_reply": "2025-03-19T01:49:44.180815Z"
        },
        "id": "9DsQcc77ulU9"
      },
      "outputs": [],
      "execution_count": null
    },
    {
      "cell_type": "markdown",
      "source": [
        "#PreProcessing Functions"
      ],
      "metadata": {
        "id": "UmvnSz_a2cn4"
      }
    },
    {
      "cell_type": "code",
      "source": [
        "#Noise Injection\n",
        "def add_noise(image):\n",
        "    noise = tf.random.normal(shape=tf.shape(image), mean=0.0, stddev=0.1, dtype=tf.float32)\n",
        "    return image + noise\n",
        "\n",
        "#Cut Out : cutting out different parts of the image\n",
        "def cutout(image, mask_size=50):\n",
        "    h, w = image.shape[0], image.shape[1]\n",
        "    mask = np.ones((h, w, 3), np.float32)\n",
        "    y = np.random.randint(h)\n",
        "    x = np.random.randint(w)\n",
        "    y1 = np.clip(y - mask_size // 2, 0, h)\n",
        "    y2 = np.clip(y + mask_size // 2, 0, h)\n",
        "    x1 = np.clip(x - mask_size // 2, 0, w)\n",
        "    x2 = np.clip(x + mask_size // 2, 0, w)\n",
        "    mask[y1:y2, x1:x2] = 0\n",
        "    return image * mask\n",
        "\n",
        "\n",
        "#final pre-processing\n",
        "def combined_preprocessing(image):\n",
        "    if np.random.rand() < 0.3:\n",
        "        image = add_noise(image)\n",
        "\n",
        "    if np.random.rand() < 0.3:\n",
        "        image = cutout(image)\n",
        "\n",
        "    return image"
      ],
      "metadata": {
        "id": "87oqW4j82fP3"
      },
      "execution_count": null,
      "outputs": []
    },
    {
      "cell_type": "code",
      "source": [
        "# from PIL import Image\n",
        "\n",
        "\n",
        "# def load_images(df, base_path, img_size=(299, 299)):\n",
        "#     images = []\n",
        "#     labels = []\n",
        "#     for _, row in df.iterrows():\n",
        "#         img_path = os.path.join(base_path, row['file_path'])\n",
        "#         img = Image.open(img_path).resize(img_size)  # Resize images to 299x299\n",
        "#         img = np.array(img) / 255.0  # Normalize pixel values\n",
        "#         images.append(img)\n",
        "#         labels.append(row['encoded_label'])\n",
        "#     return np.array(images), np.array(labels)\n",
        "\n",
        "# # Load training images and labels\n",
        "# base_path = \"/content/drive/MyDrive/VIR_AJL_Team_Glycerin/Dermatology_Dataset/bttai-ajl-2025_unzipped\"\n",
        "# train_images, train_labels = load_images(train_data, base_path, img_size=(299, 299))\n",
        "\n",
        "# train_images_flat = train_images.reshape(train_images.shape[0], -1)\n",
        "\n",
        "# # Apply SMOTE to generate synthetic samples\n",
        "# smote = SMOTE()\n",
        "# train_images_resampled, train_labels_resampled = smote.fit_resample(train_images_flat, train_labels)\n",
        "\n",
        "# # Reshape back to original image dimensions (299x299)\n",
        "# train_images_resampled = train_images_resampled.reshape(-1, 299, 299, 3)\n",
        "\n",
        "# train_images_combined = np.concatenate([train_images, train_images_resampled], axis=0)\n",
        "# train_labels_combined = np.concatenate([train_labels, train_labels_resampled], axis=0)\n",
        "\n",
        "# # Convert labels to categorical (one-hot encoding)\n",
        "# train_labels_combined = to_categorical(train_labels_combined)"
      ],
      "metadata": {
        "id": "EIslK6Ons94l"
      },
      "execution_count": null,
      "outputs": []
    },
    {
      "cell_type": "markdown",
      "source": [
        "# Data Generators"
      ],
      "metadata": {
        "id": "6AF-K1h9uTMt"
      }
    },
    {
      "cell_type": "code",
      "source": [
        "# Define image data generators for training and validation\n",
        "train_datagen = ImageDataGenerator(\n",
        "    rescale=1./255,\n",
        "    rotation_range=20,\n",
        "    width_shift_range=0.2,\n",
        "    height_shift_range=0.2,\n",
        "    horizontal_flip=True,\n",
        "    fill_mode='nearest',\n",
        "    preprocessing_function=combined_preprocessing,\n",
        "    channel_shift_range=0.05,  # Channel shift range of 0.05\n",
        "    brightness_range=[0.0, 1.0],\n",
        ")\n",
        "\n",
        "val_datagen = ImageDataGenerator(rescale=1./255)\n",
        "\n",
        "# Define the directory paths\n",
        "train_dir = '/content/drive/MyDrive/VIR_AJL_Team_Glycerin/Dermatology_Dataset/bttai-ajl-2025_unzipped/train/train'\n",
        "\n",
        "# Prepare data generators\n",
        "classes = sorted(train_df['label'].unique())\n",
        "train_generator = train_datagen.flow_from_dataframe(\n",
        "    dataframe=train_data,\n",
        "    directory=train_dir,\n",
        "    x_col='file_path',\n",
        "    y_col='label',\n",
        "    classes=classes,\n",
        "    target_size=(299, 299),  # InceptionV3 expects 299x299 images\n",
        "    batch_size=32,\n",
        "    class_mode='categorical',\n",
        "    validate_filenames=False\n",
        ")\n",
        "\n",
        "val_generator = val_datagen.flow_from_dataframe(\n",
        "    dataframe=val_data,\n",
        "    directory=train_dir,\n",
        "    x_col='file_path',\n",
        "    y_col='label',\n",
        "    classes=classes,\n",
        "    target_size=(299, 299),\n",
        "    batch_size=32,\n",
        "    class_mode='categorical',\n",
        "    validate_filenames=False\n",
        ")\n"
      ],
      "metadata": {
        "trusted": true,
        "execution": {
          "iopub.status.busy": "2025-03-19T01:49:44.214576Z",
          "iopub.execute_input": "2025-03-19T01:49:44.214922Z",
          "iopub.status.idle": "2025-03-19T01:49:44.243636Z",
          "shell.execute_reply.started": "2025-03-19T01:49:44.214896Z",
          "shell.execute_reply": "2025-03-19T01:49:44.242617Z"
        },
        "id": "xw3Cv2adulU9",
        "colab": {
          "base_uri": "https://localhost:8080/"
        },
        "outputId": "62eb44c5-f51e-4ca4-aa16-0ab52a116904"
      },
      "outputs": [
        {
          "output_type": "stream",
          "name": "stdout",
          "text": [
            "Found 2288 non-validated image filenames belonging to 21 classes.\n",
            "Found 572 non-validated image filenames belonging to 21 classes.\n"
          ]
        }
      ],
      "execution_count": null
    },
    {
      "cell_type": "markdown",
      "source": [
        "#Oversampling Minority Classes"
      ],
      "metadata": {
        "id": "n59X6RNcxnv5"
      }
    },
    {
      "cell_type": "code",
      "source": [
        "from imblearn.over_sampling import SMOTE"
      ],
      "metadata": {
        "id": "oMKqngzjxnTX"
      },
      "execution_count": null,
      "outputs": []
    },
    {
      "cell_type": "markdown",
      "source": [
        "## 4. Build the model\n"
      ],
      "metadata": {
        "id": "9CbQstagulU9"
      }
    },
    {
      "cell_type": "code",
      "source": [
        "from tensorflow.keras.layers import Dense, Dropout, GlobalAveragePooling2D, BatchNormalization\n",
        "\n",
        "base_model = InceptionV3(weights='imagenet', include_top=False, input_shape=(299, 299, 3))\n",
        "\n",
        "# Freeze the base model\n",
        "base_model.trainable = False\n",
        "\n",
        "\n",
        "x = base_model.output\n",
        "x = GlobalAveragePooling2D()(x)\n",
        "x = Dense(256, activation='relu')(x)\n",
        "x = BatchNormalization()(x)\n",
        "x = Dropout(0.5)(x)\n",
        "predictions = Dense(len(classes), activation='softmax')(x)\n",
        "model = Model(inputs=base_model.input, outputs=predictions)\n"
      ],
      "metadata": {
        "trusted": true,
        "execution": {
          "iopub.status.busy": "2025-03-19T01:49:44.244929Z",
          "iopub.execute_input": "2025-03-19T01:49:44.245227Z",
          "iopub.status.idle": "2025-03-19T01:49:46.312189Z",
          "shell.execute_reply.started": "2025-03-19T01:49:44.245192Z",
          "shell.execute_reply": "2025-03-19T01:49:46.311365Z"
        },
        "id": "UAdLgPcBulU9"
      },
      "outputs": [],
      "execution_count": null
    },
    {
      "cell_type": "markdown",
      "source": [
        "## 5. Train the Model\n"
      ],
      "metadata": {
        "id": "TIbMUcBbulU-"
      }
    },
    {
      "cell_type": "code",
      "source": [
        "model.compile(optimizer=Adam(learning_rate=0.0001), loss='categorical_crossentropy', metrics=['accuracy'])"
      ],
      "metadata": {
        "trusted": true,
        "execution": {
          "iopub.status.busy": "2025-03-19T01:49:46.314152Z",
          "iopub.execute_input": "2025-03-19T01:49:46.314542Z",
          "iopub.status.idle": "2025-03-19T01:49:46.322682Z",
          "shell.execute_reply.started": "2025-03-19T01:49:46.314503Z",
          "shell.execute_reply": "2025-03-19T01:49:46.321821Z"
        },
        "id": "JQaJ9eEaulU-"
      },
      "outputs": [],
      "execution_count": null
    },
    {
      "cell_type": "markdown",
      "source": [
        "## 6. Make Predictions on Test Data"
      ],
      "metadata": {
        "id": "30wsLSWRulU-"
      }
    },
    {
      "cell_type": "code",
      "source": [
        "\n",
        "# Define callbacks\n",
        "early_stopping = tf.keras.callbacks.EarlyStopping(monitor='val_loss', patience=5, restore_best_weights=True)\n",
        "reduce_lr = tf.keras.callbacks.ReduceLROnPlateau(monitor='val_loss', factor=0.2, patience=3, min_lr=1e-5) #testing 5 next time\n",
        "\n",
        "# Train the model\n",
        "history = model.fit(\n",
        "    train_generator,\n",
        "    validation_data=val_generator,\n",
        "    epochs=25,\n",
        "    callbacks=[early_stopping, reduce_lr]\n",
        ")\n"
      ],
      "metadata": {
        "trusted": true,
        "execution": {
          "iopub.status.busy": "2025-03-19T01:49:46.324103Z",
          "iopub.execute_input": "2025-03-19T01:49:46.324474Z",
          "iopub.status.idle": "2025-03-19T02:45:02.150075Z",
          "shell.execute_reply.started": "2025-03-19T01:49:46.324438Z",
          "shell.execute_reply": "2025-03-19T02:45:02.149073Z"
        },
        "id": "v8_gSCkaulU-",
        "colab": {
          "base_uri": "https://localhost:8080/"
        },
        "outputId": "4011adf6-d6c3-42d5-8768-778ac52d279b"
      },
      "outputs": [
        {
          "output_type": "stream",
          "name": "stdout",
          "text": [
            "Epoch 1/25\n",
            "\u001b[1m72/72\u001b[0m \u001b[32m━━━━━━━━━━━━━━━━━━━━\u001b[0m\u001b[37m\u001b[0m \u001b[1m112s\u001b[0m 1s/step - accuracy: 0.1437 - loss: 3.2381 - val_accuracy: 0.2727 - val_loss: 2.4280 - learning_rate: 0.0010\n",
            "Epoch 2/25\n",
            "\u001b[1m72/72\u001b[0m \u001b[32m━━━━━━━━━━━━━━━━━━━━\u001b[0m\u001b[37m\u001b[0m \u001b[1m82s\u001b[0m 1s/step - accuracy: 0.3377 - loss: 2.2901 - val_accuracy: 0.3829 - val_loss: 2.1415 - learning_rate: 0.0010\n",
            "Epoch 3/25\n",
            "\u001b[1m72/72\u001b[0m \u001b[32m━━━━━━━━━━━━━━━━━━━━\u001b[0m\u001b[37m\u001b[0m \u001b[1m80s\u001b[0m 1s/step - accuracy: 0.3973 - loss: 2.0349 - val_accuracy: 0.3969 - val_loss: 2.0309 - learning_rate: 0.0010\n",
            "Epoch 4/25\n",
            "\u001b[1m72/72\u001b[0m \u001b[32m━━━━━━━━━━━━━━━━━━━━\u001b[0m\u001b[37m\u001b[0m \u001b[1m84s\u001b[0m 1s/step - accuracy: 0.4170 - loss: 1.9271 - val_accuracy: 0.3969 - val_loss: 2.0563 - learning_rate: 0.0010\n",
            "Epoch 5/25\n",
            "\u001b[1m72/72\u001b[0m \u001b[32m━━━━━━━━━━━━━━━━━━━━\u001b[0m\u001b[37m\u001b[0m \u001b[1m80s\u001b[0m 1s/step - accuracy: 0.4278 - loss: 1.8367 - val_accuracy: 0.3741 - val_loss: 2.0278 - learning_rate: 0.0010\n",
            "Epoch 6/25\n",
            "\u001b[1m72/72\u001b[0m \u001b[32m━━━━━━━━━━━━━━━━━━━━\u001b[0m\u001b[37m\u001b[0m \u001b[1m83s\u001b[0m 1s/step - accuracy: 0.4534 - loss: 1.8155 - val_accuracy: 0.4283 - val_loss: 1.9675 - learning_rate: 0.0010\n",
            "Epoch 7/25\n",
            "\u001b[1m72/72\u001b[0m \u001b[32m━━━━━━━━━━━━━━━━━━━━\u001b[0m\u001b[37m\u001b[0m \u001b[1m82s\u001b[0m 1s/step - accuracy: 0.4608 - loss: 1.7236 - val_accuracy: 0.3881 - val_loss: 1.9954 - learning_rate: 0.0010\n",
            "Epoch 8/25\n",
            "\u001b[1m72/72\u001b[0m \u001b[32m━━━━━━━━━━━━━━━━━━━━\u001b[0m\u001b[37m\u001b[0m \u001b[1m81s\u001b[0m 1s/step - accuracy: 0.4407 - loss: 1.7587 - val_accuracy: 0.3916 - val_loss: 2.0576 - learning_rate: 0.0010\n",
            "Epoch 9/25\n",
            "\u001b[1m72/72\u001b[0m \u001b[32m━━━━━━━━━━━━━━━━━━━━\u001b[0m\u001b[37m\u001b[0m \u001b[1m82s\u001b[0m 1s/step - accuracy: 0.4878 - loss: 1.6211 - val_accuracy: 0.4143 - val_loss: 1.9465 - learning_rate: 0.0010\n",
            "Epoch 10/25\n",
            "\u001b[1m72/72\u001b[0m \u001b[32m━━━━━━━━━━━━━━━━━━━━\u001b[0m\u001b[37m\u001b[0m \u001b[1m82s\u001b[0m 1s/step - accuracy: 0.4994 - loss: 1.6241 - val_accuracy: 0.4266 - val_loss: 1.9524 - learning_rate: 0.0010\n",
            "Epoch 11/25\n",
            "\u001b[1m72/72\u001b[0m \u001b[32m━━━━━━━━━━━━━━━━━━━━\u001b[0m\u001b[37m\u001b[0m \u001b[1m81s\u001b[0m 1s/step - accuracy: 0.4937 - loss: 1.5935 - val_accuracy: 0.4196 - val_loss: 1.9752 - learning_rate: 0.0010\n",
            "Epoch 12/25\n",
            "\u001b[1m72/72\u001b[0m \u001b[32m━━━━━━━━━━━━━━━━━━━━\u001b[0m\u001b[37m\u001b[0m \u001b[1m79s\u001b[0m 1s/step - accuracy: 0.5081 - loss: 1.5800 - val_accuracy: 0.4003 - val_loss: 2.0794 - learning_rate: 0.0010\n",
            "Epoch 13/25\n",
            "\u001b[1m72/72\u001b[0m \u001b[32m━━━━━━━━━━━━━━━━━━━━\u001b[0m\u001b[37m\u001b[0m \u001b[1m83s\u001b[0m 1s/step - accuracy: 0.5446 - loss: 1.4630 - val_accuracy: 0.4563 - val_loss: 1.8438 - learning_rate: 2.0000e-04\n",
            "Epoch 14/25\n",
            "\u001b[1m72/72\u001b[0m \u001b[32m━━━━━━━━━━━━━━━━━━━━\u001b[0m\u001b[37m\u001b[0m \u001b[1m80s\u001b[0m 1s/step - accuracy: 0.5300 - loss: 1.4893 - val_accuracy: 0.4598 - val_loss: 1.8274 - learning_rate: 2.0000e-04\n",
            "Epoch 15/25\n",
            "\u001b[1m72/72\u001b[0m \u001b[32m━━━━━━━━━━━━━━━━━━━━\u001b[0m\u001b[37m\u001b[0m \u001b[1m81s\u001b[0m 1s/step - accuracy: 0.5526 - loss: 1.4366 - val_accuracy: 0.4598 - val_loss: 1.8286 - learning_rate: 2.0000e-04\n",
            "Epoch 16/25\n",
            "\u001b[1m72/72\u001b[0m \u001b[32m━━━━━━━━━━━━━━━━━━━━\u001b[0m\u001b[37m\u001b[0m \u001b[1m81s\u001b[0m 1s/step - accuracy: 0.5580 - loss: 1.4197 - val_accuracy: 0.4773 - val_loss: 1.8184 - learning_rate: 2.0000e-04\n",
            "Epoch 17/25\n",
            "\u001b[1m72/72\u001b[0m \u001b[32m━━━━━━━━━━━━━━━━━━━━\u001b[0m\u001b[37m\u001b[0m \u001b[1m80s\u001b[0m 1s/step - accuracy: 0.5582 - loss: 1.4345 - val_accuracy: 0.4615 - val_loss: 1.8132 - learning_rate: 2.0000e-04\n",
            "Epoch 18/25\n",
            "\u001b[1m72/72\u001b[0m \u001b[32m━━━━━━━━━━━━━━━━━━━━\u001b[0m\u001b[37m\u001b[0m \u001b[1m81s\u001b[0m 1s/step - accuracy: 0.5758 - loss: 1.4133 - val_accuracy: 0.4615 - val_loss: 1.8404 - learning_rate: 2.0000e-04\n",
            "Epoch 19/25\n",
            "\u001b[1m72/72\u001b[0m \u001b[32m━━━━━━━━━━━━━━━━━━━━\u001b[0m\u001b[37m\u001b[0m \u001b[1m82s\u001b[0m 1s/step - accuracy: 0.5686 - loss: 1.3929 - val_accuracy: 0.4615 - val_loss: 1.8654 - learning_rate: 2.0000e-04\n",
            "Epoch 20/25\n",
            "\u001b[1m72/72\u001b[0m \u001b[32m━━━━━━━━━━━━━━━━━━━━\u001b[0m\u001b[37m\u001b[0m \u001b[1m81s\u001b[0m 1s/step - accuracy: 0.5682 - loss: 1.3885 - val_accuracy: 0.4563 - val_loss: 1.8598 - learning_rate: 2.0000e-04\n",
            "Epoch 21/25\n",
            "\u001b[1m72/72\u001b[0m \u001b[32m━━━━━━━━━━━━━━━━━━━━\u001b[0m\u001b[37m\u001b[0m \u001b[1m79s\u001b[0m 1s/step - accuracy: 0.5500 - loss: 1.3898 - val_accuracy: 0.4720 - val_loss: 1.8227 - learning_rate: 4.0000e-05\n",
            "Epoch 22/25\n",
            "\u001b[1m72/72\u001b[0m \u001b[32m━━━━━━━━━━━━━━━━━━━━\u001b[0m\u001b[37m\u001b[0m \u001b[1m86s\u001b[0m 1s/step - accuracy: 0.5775 - loss: 1.3537 - val_accuracy: 0.4703 - val_loss: 1.8239 - learning_rate: 4.0000e-05\n"
          ]
        }
      ],
      "execution_count": null
    },
    {
      "cell_type": "markdown",
      "source": [
        "## 7. Generate Predictions"
      ],
      "metadata": {
        "id": "5UmvIXJ0ulU-"
      }
    },
    {
      "cell_type": "code",
      "source": [
        "# TODO\n",
        "# Generate predictions based on the trained model\n",
        "# Then, save the predictions into a CSV file for submission"
      ],
      "metadata": {
        "trusted": true,
        "execution": {
          "iopub.status.busy": "2025-03-19T03:02:16.073082Z",
          "iopub.execute_input": "2025-03-19T03:02:16.073482Z",
          "iopub.status.idle": "2025-03-19T03:02:16.077657Z",
          "shell.execute_reply.started": "2025-03-19T03:02:16.07344Z",
          "shell.execute_reply": "2025-03-19T03:02:16.076627Z"
        },
        "id": "A-1jX6RuulU-"
      },
      "outputs": [],
      "execution_count": null
    },
    {
      "cell_type": "code",
      "source": [
        "# Evaluate the model on the validation set\n",
        "val_loss, val_accuracy = model.evaluate(val_generator)\n",
        "print(f'Validation Accuracy: {val_accuracy:.2f}')\n",
        "\n",
        "# Prepare test data generator\n",
        "test_dir = '/content/drive/MyDrive/VIR_AJL_Team_Glycerin/Dermatology_Dataset/bttai-ajl-2025_unzipped/test.csv'\n",
        "test_datagen = ImageDataGenerator(rescale=1./255)\n",
        "\n",
        "test_generator = test_datagen.flow_from_dataframe(\n",
        "    dataframe=test_df,\n",
        "    directory='/content/drive/MyDrive/VIR_AJL_Team_Glycerin/Dermatology_Dataset/bttai-ajl-2025_unzipped/test/test',\n",
        "    x_col='md5hash',\n",
        "    y_col=None,\n",
        "    target_size=(299, 299),\n",
        "    batch_size=32,\n",
        "    class_mode=None,\n",
        "    shuffle=False\n",
        ")\n",
        "\n",
        "# Generate predictions\n",
        "predictions = model.predict(test_generator)\n",
        "predicted_labels = [classes[pred.argmax()] for pred in predictions]\n",
        "\n",
        "# Create submission DataFrame\n",
        "submission_df = pd.DataFrame({\n",
        "    'md5hash': test_df['md5hash'].str.replace('.jpg', ''),\n",
        "    'label': predicted_labels\n",
        "})\n",
        "\n",
        "# Save to CSV\n",
        "submission_df.to_csv('/content/drive/MyDrive/VIR_AJL_Team_Glycerin/Submissions/submission.csv', index=False)"
      ],
      "metadata": {
        "trusted": true,
        "execution": {
          "iopub.status.busy": "2025-03-19T03:02:23.118418Z",
          "iopub.execute_input": "2025-03-19T03:02:23.118749Z",
          "iopub.status.idle": "2025-03-19T03:05:55.402597Z",
          "shell.execute_reply.started": "2025-03-19T03:02:23.118723Z",
          "shell.execute_reply": "2025-03-19T03:05:55.401688Z"
        },
        "id": "-BBSCQxkulU-",
        "colab": {
          "base_uri": "https://localhost:8080/"
        },
        "outputId": "1b10a7cb-c99c-43ce-b7d6-eb13fa709236"
      },
      "outputs": [
        {
          "output_type": "stream",
          "name": "stdout",
          "text": [
            "\u001b[1m18/18\u001b[0m \u001b[32m━━━━━━━━━━━━━━━━━━━━\u001b[0m\u001b[37m\u001b[0m \u001b[1m5s\u001b[0m 286ms/step - accuracy: 0.4592 - loss: 1.7842\n",
            "Validation Accuracy: 0.46\n",
            "Found 1227 validated image filenames.\n",
            "\u001b[1m39/39\u001b[0m \u001b[32m━━━━━━━━━━━━━━━━━━━━\u001b[0m\u001b[37m\u001b[0m \u001b[1m424s\u001b[0m 11s/step\n"
          ]
        }
      ],
      "execution_count": null
    },
    {
      "cell_type": "code",
      "source": [
        "submission\n",
        "\n",
        "plt.figure(figsize=(12, 4))\n",
        "plt.subplot(1, 2, 1)\n",
        "plt.plot(history.history['accuracy'], label='Training Accuracy')\n",
        "plt.plot(history.history['val_accuracy'], label='Validation Accuracy')\n",
        "plt.title('Model Accuracy')\n",
        "plt.xlabel('Epoch')\n",
        "plt.ylabel('Accuracy')\n",
        "plt.legend()\n",
        "\n",
        "plt.subplot(1, 2, 2)\n",
        "plt.plot(history.history['loss'], label='Training Loss')\n",
        "plt.plot(history.history['val_loss'], label='Validation Loss')\n",
        "plt.title('Model Loss')\n",
        "plt.xlabel('Epoch')\n",
        "plt.ylabel('Loss')\n",
        "plt.legend()\n",
        "plt.tight_layout()\n",
        "plt.show()"
      ],
      "metadata": {
        "trusted": true,
        "execution": {
          "iopub.status.busy": "2025-03-19T02:48:16.738647Z",
          "iopub.execute_input": "2025-03-19T02:48:16.739036Z",
          "iopub.status.idle": "2025-03-19T02:48:17.205733Z",
          "shell.execute_reply.started": "2025-03-19T02:48:16.738995Z",
          "shell.execute_reply": "2025-03-19T02:48:17.204745Z"
        },
        "id": "UbfJW_oiulU_",
        "colab": {
          "base_uri": "https://localhost:8080/",
          "height": 407
        },
        "outputId": "507ee85e-bd23-476a-8bda-c44e15b1e8a9"
      },
      "outputs": [
        {
          "output_type": "display_data",
          "data": {
            "text/plain": [
              "<Figure size 1200x400 with 2 Axes>"
            ],
            "image/png": "[encoded data removed]"
          },
          "metadata": {}
        }
      ],
      "execution_count": null
    }
  ]
}