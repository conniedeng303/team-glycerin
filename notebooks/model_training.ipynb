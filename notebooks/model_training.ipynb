{
  "cells": [
    {
      "cell_type": "markdown",
      "source": [
        "**Idea:**\n",
        "Note that this specific notebook is to get the raw baseline of the dataset, with little encoding."
      ],
      "metadata": {
        "id": "bwncVxrQRIzC"
      }
    },
    {
      "cell_type": "code",
      "execution_count": 3,
      "metadata": {
        "vscode": {
          "languageId": "plaintext"
        },
        "id": "vlBrKcLT69pX"
      },
      "outputs": [],
      "source": [
        "import pandas as pd\n",
        "import numpy as np\n",
        "import os\n",
        "from sklearn.model_selection import train_test_split\n",
        "from sklearn.preprocessing import LabelEncoder\n",
        "from tensorflow.keras.preprocessing.image import ImageDataGenerator\n",
        "from tensorflow.keras.models import Sequential\n",
        "from tensorflow.keras.layers import Conv2D, MaxPooling2D, Flatten, Dense, Dropout\n",
        "from tensorflow.keras.callbacks import EarlyStopping\n"
      ]
    },
    {
      "cell_type": "code",
      "source": [
        "from google.colab import drive\n",
        "drive.mount('/content/drive')\n",
        "train_path = \"/content/drive/MyDrive/VIR_AJL_Team_Glycerin/Dermatology_Dataset/bttai-ajl-2025_unzipped/train.csv\"\n",
        "test_path = \"/content/drive/MyDrive/VIR_AJL_Team_Glycerin/Dermatology_Dataset/bttai-ajl-2025_unzipped/test.csv\"\n",
        "\n",
        "train_df = pd.read_csv(train_path)\n",
        "test_df = pd.read_csv(test_path)\n",
        "\n",
        "train_df['md5hash'] = train_df['md5hash'].astype(str) + '.jpg'\n",
        "test_df['md5hash'] = test_df['md5hash'].astype(str) + '.jpg'\n",
        "train_df['file_path'] = train_df['label'] + '/' + train_df['md5hash']"
      ],
      "metadata": {
        "colab": {
          "base_uri": "https://localhost:8080/"
        },
        "id": "TB9sci-j7Nwv",
        "outputId": "74cd030e-ad06-4c7c-c085-68b2893c575a"
      },
      "execution_count": 4,
      "outputs": [
        {
          "output_type": "stream",
          "name": "stdout",
          "text": [
            "Mounted at /content/drive\n"
          ]
        }
      ]
    },
    {
      "cell_type": "code",
      "source": [
        "import pandas as pd\n",
        "from sklearn.model_selection import train_test_split\n",
        "from sklearn.preprocessing import LabelEncoder\n",
        "from tensorflow.keras.preprocessing.image import ImageDataGenerator"
      ],
      "metadata": {
        "id": "CMmMw42p9H_3"
      },
      "execution_count": 5,
      "outputs": []
    },
    {
      "cell_type": "code",
      "source": [
        "#Pre Preprocessing Step\n",
        "label_encoder = LabelEncoder()\n",
        "train_df['encoded_label'] = label_encoder.fit_transform(train_df['label'])\n",
        "train_data, val_data = train_test_split(train_df, test_size=0.2, random_state=42)\n",
        "train_datagen = ImageDataGenerator(rescale=1./255)\n",
        "val_datagen = ImageDataGenerator(rescale=1./255)\n",
        "train_dir = '/content/drive/MyDrive/VIR_AJL_Team_Glycerin/Dermatology_Dataset/bttai-ajl-2025_unzipped/train/train'"
      ],
      "metadata": {
        "id": "6TIy4HyT8TYG"
      },
      "execution_count": 6,
      "outputs": []
    },
    {
      "cell_type": "code",
      "source": [
        "def create_generator(dataframe, directory, batch_size=32, target_size=(128, 128)):\n",
        "    \"\"\"\n",
        "    Template function to create image generators.\n",
        "    Students should complete this function to load images and labels properly.\n",
        "    \"\"\"\n",
        "    generator = train_datagen.flow_from_dataframe(\n",
        "        dataframe=dataframe,\n",
        "        directory=directory,\n",
        "        x_col='file_path',\n",
        "        y_col='encoded_label',\n",
        "        target_size=target_size,\n",
        "        batch_size=batch_size,\n",
        "        class_mode='raw',\n",
        "        validate_filenames=False\n",
        "    )\n",
        "    return generator\n",
        "\n",
        "train_generator = create_generator(train_data, train_dir)\n",
        "val_generator = create_generator(val_data, train_dir)"
      ],
      "metadata": {
        "colab": {
          "base_uri": "https://localhost:8080/"
        },
        "id": "rIyuWEaJ80gY",
        "outputId": "5ebafe9e-c7e6-4e05-cd7a-4436198e32a9"
      },
      "execution_count": 7,
      "outputs": [
        {
          "output_type": "stream",
          "name": "stdout",
          "text": [
            "Found 2288 non-validated image filenames.\n",
            "Found 572 non-validated image filenames.\n"
          ]
        }
      ]
    },
    {
      "cell_type": "code",
      "source": [
        "from tensorflow.keras.applications import MobileNet\n",
        "from tensorflow.keras.layers import Dense, GlobalAveragePooling2D\n",
        "from tensorflow.keras.models import Model\n",
        "\n",
        "\n",
        "base_model = MobileNet(weights='imagenet', include_top=False, input_shape=(128, 128, 3))\n",
        "base_model.trainable = False\n",
        "\n",
        "\n",
        "x = base_model.output\n",
        "x = GlobalAveragePooling2D()(x)\n",
        "x = Dense(1024, activation='relu')(x)\n",
        "num_classes = 21\n",
        "predictions = Dense(num_classes, activation='softmax')(x)\n",
        "\n",
        "\n",
        "model = Model(inputs=base_model.input, outputs=predictions)\n",
        "\n",
        "\n",
        "model.compile(optimizer='adam', loss='sparse_categorical_crossentropy', metrics=['accuracy'])\n",
        "\n",
        "early_stopping = EarlyStopping(\n",
        "    monitor='val_loss',\n",
        "    patience=3,\n",
        "    restore_best_weights=True\n",
        ")\n",
        "\n",
        "model.fit(\n",
        "    train_generator,\n",
        "    steps_per_epoch=len(train_generator),\n",
        "    validation_data=val_generator,\n",
        "    validation_steps=len(val_generator),\n",
        "    epochs=10\n",
        ")"
      ],
      "metadata": {
        "colab": {
          "base_uri": "https://localhost:8080/"
        },
        "collapsed": true,
        "id": "UuCtnldR9sIT",
        "outputId": "f0801ef8-f0ae-43e8-c867-3dfe9f54a2fd"
      },
      "execution_count": 8,
      "outputs": [
        {
          "output_type": "stream",
          "name": "stdout",
          "text": [
            "Downloading data from https://storage.googleapis.com/tensorflow/keras-applications/mobilenet/mobilenet_1_0_128_tf_no_top.h5\n",
            "\u001b[1m17225924/17225924\u001b[0m \u001b[32m━━━━━━━━━━━━━━━━━━━━\u001b[0m\u001b[37m\u001b[0m \u001b[1m0s\u001b[0m 0us/step\n"
          ]
        },
        {
          "output_type": "stream",
          "name": "stderr",
          "text": [
            "/usr/local/lib/python3.11/dist-packages/keras/src/trainers/data_adapters/py_dataset_adapter.py:121: UserWarning: Your `PyDataset` class should call `super().__init__(**kwargs)` in its constructor. `**kwargs` can include `workers`, `use_multiprocessing`, `max_queue_size`. Do not pass these arguments to `fit()`, as they will be ignored.\n",
            "  self._warn_if_super_not_called()\n"
          ]
        },
        {
          "output_type": "stream",
          "name": "stdout",
          "text": [
            "Epoch 1/10\n",
            "\u001b[1m72/72\u001b[0m \u001b[32m━━━━━━━━━━━━━━━━━━━━\u001b[0m\u001b[37m\u001b[0m \u001b[1m1071s\u001b[0m 15s/step - accuracy: 0.2434 - loss: 2.8322 - val_accuracy: 0.3881 - val_loss: 1.9712\n",
            "Epoch 2/10\n",
            "\u001b[1m72/72\u001b[0m \u001b[32m━━━━━━━━━━━━━━━━━━━━\u001b[0m\u001b[37m\u001b[0m \u001b[1m89s\u001b[0m 760ms/step - accuracy: 0.5828 - loss: 1.3371 - val_accuracy: 0.4266 - val_loss: 1.8928\n",
            "Epoch 3/10\n",
            "\u001b[1m72/72\u001b[0m \u001b[32m━━━━━━━━━━━━━━━━━━━━\u001b[0m\u001b[37m\u001b[0m \u001b[1m82s\u001b[0m 761ms/step - accuracy: 0.7785 - loss: 0.8001 - val_accuracy: 0.4825 - val_loss: 1.8395\n",
            "Epoch 4/10\n",
            "\u001b[1m72/72\u001b[0m \u001b[32m━━━━━━━━━━━━━━━━━━━━\u001b[0m\u001b[37m\u001b[0m \u001b[1m64s\u001b[0m 891ms/step - accuracy: 0.8639 - loss: 0.4918 - val_accuracy: 0.4476 - val_loss: 1.8968\n",
            "Epoch 5/10\n",
            "\u001b[1m72/72\u001b[0m \u001b[32m━━━━━━━━━━━━━━━━━━━━\u001b[0m\u001b[37m\u001b[0m \u001b[1m76s\u001b[0m 810ms/step - accuracy: 0.9375 - loss: 0.2718 - val_accuracy: 0.4878 - val_loss: 1.8792\n",
            "Epoch 6/10\n",
            "\u001b[1m72/72\u001b[0m \u001b[32m━━━━━━━━━━━━━━━━━━━━\u001b[0m\u001b[37m\u001b[0m \u001b[1m81s\u001b[0m 798ms/step - accuracy: 0.9843 - loss: 0.1358 - val_accuracy: 0.5000 - val_loss: 1.9859\n",
            "Epoch 7/10\n",
            "\u001b[1m72/72\u001b[0m \u001b[32m━━━━━━━━━━━━━━━━━━━━\u001b[0m\u001b[37m\u001b[0m \u001b[1m79s\u001b[0m 753ms/step - accuracy: 0.9915 - loss: 0.0815 - val_accuracy: 0.5017 - val_loss: 1.9546\n",
            "Epoch 8/10\n",
            "\u001b[1m72/72\u001b[0m \u001b[32m━━━━━━━━━━━━━━━━━━━━\u001b[0m\u001b[37m\u001b[0m \u001b[1m54s\u001b[0m 737ms/step - accuracy: 0.9961 - loss: 0.0468 - val_accuracy: 0.5087 - val_loss: 2.0017\n",
            "Epoch 9/10\n",
            "\u001b[1m72/72\u001b[0m \u001b[32m━━━━━━━━━━━━━━━━━━━━\u001b[0m\u001b[37m\u001b[0m \u001b[1m83s\u001b[0m 751ms/step - accuracy: 0.9997 - loss: 0.0247 - val_accuracy: 0.5035 - val_loss: 2.1077\n",
            "Epoch 10/10\n",
            "\u001b[1m72/72\u001b[0m \u001b[32m━━━━━━━━━━━━━━━━━━━━\u001b[0m\u001b[37m\u001b[0m \u001b[1m88s\u001b[0m 837ms/step - accuracy: 1.0000 - loss: 0.0155 - val_accuracy: 0.5157 - val_loss: 2.0874\n"
          ]
        },
        {
          "output_type": "execute_result",
          "data": {
            "text/plain": [
              "<keras.src.callbacks.history.History at 0x7e56f1cf9950>"
            ]
          },
          "metadata": {},
          "execution_count": 8
        }
      ]
    },
    {
      "cell_type": "code",
      "source": [
        "model.save(\"/content/drive/MyDrive/VIR_AJL_Team_Glycerin/Saved_Models/my_model.keras\")"
      ],
      "metadata": {
        "id": "2B_jlTS3DlPA"
      },
      "execution_count": 9,
      "outputs": []
    },
    {
      "cell_type": "code",
      "source": [
        "from tensorflow.keras.preprocessing.image import ImageDataGenerator\n",
        "\n",
        "\n",
        "test_datagen = ImageDataGenerator(rescale=1./255)\n",
        "\n",
        "test_generator = test_datagen.flow_from_dataframe(\n",
        "    dataframe=test_df,\n",
        "    directory='/content/drive/MyDrive/VIR_AJL_Team_Glycerin/Dermatology_Dataset/bttai-ajl-2025_unzipped/test/test',\n",
        "    x_col='md5hash',\n",
        "    y_col=None,\n",
        "    target_size=(128, 128),\n",
        "    batch_size=32,\n",
        "    class_mode=None,\n",
        "    shuffle=False\n",
        ")"
      ],
      "metadata": {
        "colab": {
          "base_uri": "https://localhost:8080/"
        },
        "id": "gQOFcy5LIN_n",
        "outputId": "04da1340-f106-4a41-f956-cd62e1543124"
      },
      "execution_count": 10,
      "outputs": [
        {
          "output_type": "stream",
          "name": "stdout",
          "text": [
            "Found 1227 validated image filenames.\n"
          ]
        }
      ]
    },
    {
      "cell_type": "code",
      "source": [
        "\n",
        "unique_labels = train_df['label'].unique()\n",
        "class_to_index = {label: idx for idx, label in enumerate(unique_labels)}\n",
        "index_to_class = {idx: label for label, idx in class_to_index.items()}\n",
        "test_predictions = model.predict(test_generator, steps=len(test_generator))\n",
        "predicted_class_indices = np.argmax(test_predictions, axis=1)\n",
        "predicted_labels = [index_to_class[idx] for idx in predicted_class_indices]"
      ],
      "metadata": {
        "colab": {
          "base_uri": "https://localhost:8080/"
        },
        "id": "eH9kpI3cQHxI",
        "outputId": "98ac505d-9c6e-4580-d184-6db84480c727"
      },
      "execution_count": 11,
      "outputs": [
        {
          "output_type": "stream",
          "name": "stdout",
          "text": [
            "\u001b[1m39/39\u001b[0m \u001b[32m━━━━━━━━━━━━━━━━━━━━\u001b[0m\u001b[37m\u001b[0m \u001b[1m442s\u001b[0m 12s/step\n"
          ]
        }
      ]
    },
    {
      "cell_type": "code",
      "source": [
        "#SUBMISSION CHECKING\n",
        "\n",
        "submission_df = pd.DataFrame({\n",
        "    'md5hash': test_df['md5hash'],\n",
        "    'label': predicted_labels\n",
        "})\n",
        "\n",
        "duplicate_rows = submission_df[submission_df.duplicated()]\n",
        "if duplicate_rows.empty:\n",
        "    print(\"The CSV has all unique rows.\")\n",
        "else:\n",
        "    print(\"The CSV has duplicate rows.\")\n",
        "    print(f\"Number of duplicate rows: {len(duplicate_rows)}\")\n",
        "    print(\"Duplicate rows:\")\n",
        "    print(duplicate_rows)\n",
        "\n",
        "\n",
        "\n",
        "submission_df.to_csv('/content/drive/MyDrive/VIR_AJL_Team_Glycerin/Submissions/submission.csv', index=False)\n",
        "print(submission_df)\n",
        "print(submission_df.columns)\n",
        "print(\"-------------------\")\n",
        "print(submission_df.iloc[1])"
      ],
      "metadata": {
        "colab": {
          "base_uri": "https://localhost:8080/"
        },
        "id": "slXfzA6r_3sB",
        "outputId": "708a1028-b3fa-4bba-a41b-925a37ce767f"
      },
      "execution_count": 19,
      "outputs": [
        {
          "output_type": "stream",
          "name": "stdout",
          "text": [
            "The CSV has all unique rows.\n",
            "                                   md5hash                             label\n",
            "0     0844ae634f0e6e7ef1f73c2aeecbae0e.jpg                     acne-vulgaris\n",
            "1     3b290d262098f761d719aa07cf36c040.jpg              basal-cell-carcinoma\n",
            "2     cf561d08ac46d0fda678bff6621005ee.jpg                   dermatomyositis\n",
            "3     e6371069be05c6b0a95b4b3f1bacc9a5.jpg  basal-cell-carcinoma-morpheiform\n",
            "4     f76cddb37265f97508f159078dcc7e7c.jpg                     acne-vulgaris\n",
            "...                                    ...                               ...\n",
            "1222  270a217e6e961cf405a4ad46a110ff69.jpg                   dermatomyositis\n",
            "1223  176892dfc10eabf4ad8b1f50ec5df7e5.jpg                      folliculitis\n",
            "1224  91a4f52d7f99a33ec53d6d695e6c9f4d.jpg              basal-cell-carcinoma\n",
            "1225  8ba5d48405d01accc3a218693a049ae9.jpg                            keloid\n",
            "1226  e3e180ecaeadef19fd487caab7655316.jpg              basal-cell-carcinoma\n",
            "\n",
            "[1227 rows x 2 columns]\n",
            "Index(['md5hash', 'label'], dtype='object')\n",
            "-------------------\n",
            "md5hash    3b290d262098f761d719aa07cf36c040.jpg\n",
            "label                      basal-cell-carcinoma\n",
            "Name: 1, dtype: object\n"
          ]
        }
      ]
    },
    {
      "cell_type": "code",
      "source": [
        "import pandas as pd\n",
        "\n",
        "\n",
        "sample_submission_path = '/content/drive/MyDrive/VIR_AJL_Team_Glycerin/Submissions/sample_submission.csv'\n",
        "your_submission_path = '/content/drive/MyDrive/VIR_AJL_Team_Glycerin/Submissions/submission.csv'\n",
        "output_path = '/content/drive/MyDrive/VIR_AJL_Team_Glycerin/Submissions/reordered_submission.csv'\n",
        "\n",
        "\n",
        "sample_submission = pd.read_csv(sample_submission_path)\n",
        "your_submission = pd.read_csv(your_submission_path)\n",
        "\n",
        "\n",
        "your_submission['md5hash'] = your_submission['md5hash'].str.replace('.jpg', '', regex=False)\n",
        "\n",
        "\n",
        "label_mapping = your_submission.set_index('md5hash')['label'].to_dict()\n",
        "sample_submission['label'] = sample_submission['md5hash'].map(label_mapping)\n",
        "\n",
        "\n",
        "sample_submission['label'] = sample_submission['label'].fillna('unknown')  # Fill missing labels\n",
        "\n",
        "\n",
        "print(\"First few rows of the updated submission:\")\n",
        "print(sample_submission.head())\n",
        "\n",
        "sample_submission.to_csv(output_path, index=False)\n",
        "\n",
        "print(\"\\nReordered submission saved to:\", output_path)"
      ],
      "metadata": {
        "colab": {
          "base_uri": "https://localhost:8080/"
        },
        "id": "VjbJge37-6b9",
        "outputId": "29169b85-e045-477e-c14e-c02bad9858c3"
      },
      "execution_count": 33,
      "outputs": [
        {
          "output_type": "stream",
          "name": "stdout",
          "text": [
            "First few rows of the updated submission:\n",
            "                            md5hash               label\n",
            "0  16d1e6b4143c88cb158a50ea8bc3a595     dermatomyositis\n",
            "1  aceebbdcfd419fa960ebe3933d721550       acne-vulgaris\n",
            "2  85bfb7325d93bac71fcbc08ae0a9ba23  malignant-melanoma\n",
            "3  0ee34d8cc387db6430bba2d2ce793ac9     epidermal-nevus\n",
            "4  268e737f44bce5f54b4bcee52baf7e66            melanoma\n",
            "\n",
            "Reordered submission saved to: /content/drive/MyDrive/VIR_AJL_Team_Glycerin/Submissions/reordered_submission.csv\n"
          ]
        }
      ]
    }
  ],
  "metadata": {
    "language_info": {
      "name": "python"
    },
    "colab": {
      "provenance": []
    },
    "kernelspec": {
      "name": "python3",
      "display_name": "Python 3"
    }
  },
  "nbformat": 4,
  "nbformat_minor": 0
}